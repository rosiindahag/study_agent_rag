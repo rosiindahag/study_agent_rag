{
  "nbformat": 4,
  "nbformat_minor": 0,
  "metadata": {
    "colab": {
      "provenance": [],
      "authorship_tag": "ABX9TyP79SuGYpQGwBjS5kwZVqTb",
      "include_colab_link": true
    },
    "kernelspec": {
      "name": "python3",
      "display_name": "Python 3"
    },
    "language_info": {
      "name": "python"
    }
  },
  "cells": [
    {
      "cell_type": "markdown",
      "metadata": {
        "id": "view-in-github",
        "colab_type": "text"
      },
      "source": [
        "<a href=\"https://colab.research.google.com/github/rosiindahag/study_agent_rag/blob/main/Study_agent.ipynb\" target=\"_parent\"><img src=\"https://colab.research.google.com/assets/colab-badge.svg\" alt=\"Open In Colab\"/></a>"
      ]
    },
    {
      "cell_type": "markdown",
      "source": [
        "### **Project Description**: Find the theory with AI predictions\n",
        "This project aims to find the literature faster\n",
        "\n",
        "### **Key Features:**\n"
      ],
      "metadata": {
        "id": "PURdB-2wONQz"
      }
    },
    {
      "cell_type": "code",
      "execution_count": null,
      "metadata": {
        "id": "2307_BTEA7P8"
      },
      "outputs": [],
      "source": [
        "t# import necessary library\n"
      ]
    }
  ]
}